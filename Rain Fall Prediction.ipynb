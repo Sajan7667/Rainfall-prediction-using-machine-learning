{
 "cells": [
  {
   "cell_type": "markdown",
   "id": "84f3f18e",
   "metadata": {},
   "source": [
    "# Rain Fall Prediction"
   ]
  },
  {
   "cell_type": "code",
   "execution_count": 15,
   "id": "d2d2b5c0",
   "metadata": {},
   "outputs": [],
   "source": [
    "# Commented out IPython magic to ensure Python compatibility.\n",
    "import pandas as pd\n",
    "import numpy as np\n",
    "import matplotlib.pyplot as plt\n",
    "import seaborn as sns\n",
    "import sklearn\n",
    "# %matplotlib inline"
   ]
  },
  {
   "cell_type": "code",
   "execution_count": 16,
   "id": "0c8eb4e4",
   "metadata": {},
   "outputs": [],
   "source": [
    "#Importing the dataset using pandas\n",
    "rain = pd.read_csv(\"weatherAUS.csv\")"
   ]
  },
  {
   "cell_type": "code",
   "execution_count": 17,
   "id": "6066fc51",
   "metadata": {},
   "outputs": [],
   "source": [
    "#chechking if there is any categorical features and store in the variable categorical_features\n",
    "categorical_features = [column_name for column_name in rain.columns if rain[column_name].dtype == 'O']"
   ]
  },
  {
   "cell_type": "code",
   "execution_count": 18,
   "id": "5db81d29",
   "metadata": {},
   "outputs": [],
   "source": [
    "# taking all the numerical features and store it in the variable numerical_features\n",
    "numerical_features = [column_name for column_name in rain.columns if rain[column_name].dtype != 'O']"
   ]
  },
  {
   "cell_type": "code",
   "execution_count": 19,
   "id": "95bf7769",
   "metadata": {},
   "outputs": [
    {
     "name": "stdout",
     "output_type": "stream",
     "text": [
      "Cardinality(no. of unique values) of Date are: 3436\n",
      "Cardinality(no. of unique values) of Location are: 49\n",
      "Cardinality(no. of unique values) of WindGustDir are: 17\n",
      "Cardinality(no. of unique values) of WindDir9am are: 17\n",
      "Cardinality(no. of unique values) of WindDir3pm are: 17\n",
      "Cardinality(no. of unique values) of RainToday are: 3\n",
      "Cardinality(no. of unique values) of RainTomorrow are: 3\n"
     ]
    }
   ],
   "source": [
    "# replacing categorical_features with unique values\n",
    "for each_feature in categorical_features:\n",
    "   unique_values = len(rain[each_feature].unique())\n",
    "   print(\"Cardinality(no. of unique values) of {} are: {}\".format(each_feature, unique_values))"
   ]
  },
  {
   "cell_type": "code",
   "execution_count": 20,
   "id": "94fed5a8",
   "metadata": {},
   "outputs": [],
   "source": [
    "rain['Date'] = pd.to_datetime(rain['Date'])\n",
    "rain['year'] = rain['Date'].dt.year\n",
    "rain['month'] = rain['Date'].dt.month\n",
    "rain['day'] = rain['Date'].dt.day"
   ]
  },
  {
   "cell_type": "code",
   "execution_count": 21,
   "id": "c29f6d0f",
   "metadata": {},
   "outputs": [],
   "source": [
    "#droping date as it has no part to play in solving the weather prediction\n",
    "rain.drop('Date', axis = 1, inplace = True)"
   ]
  },
  {
   "cell_type": "code",
   "execution_count": 22,
   "id": "7410121d",
   "metadata": {},
   "outputs": [
    {
     "data": {
      "text/plain": [
       "Location            0\n",
       "WindGustDir     10326\n",
       "WindDir9am      10566\n",
       "WindDir3pm       4228\n",
       "RainToday        3261\n",
       "RainTomorrow     3267\n",
       "dtype: int64"
      ]
     },
     "execution_count": 22,
     "metadata": {},
     "output_type": "execute_result"
    }
   ],
   "source": [
    "#checking if there is any categorical_features are with null values NA\n",
    "categorical_features = [column_name for column_name in rain.columns if rain[column_name].dtype == 'O']\n",
    "rain[categorical_features].isnull().sum()"
   ]
  },
  {
   "cell_type": "code",
   "execution_count": 23,
   "id": "7959295a",
   "metadata": {},
   "outputs": [],
   "source": [
    "#if there is any cate are with null values they are being replaced with unique values\n",
    "categorical_features_with_null = [feature for feature in categorical_features if rain[feature].isnull().sum()]\n",
    "for each_feature in categorical_features_with_null:\n",
    "\n",
    "    mode_val = rain[each_feature].mode()[0]\n",
    "    rain[each_feature].fillna(mode_val,inplace=True)"
   ]
  },
  {
   "cell_type": "code",
   "execution_count": 24,
   "id": "8ac5be45",
   "metadata": {},
   "outputs": [
    {
     "data": {
      "text/plain": [
       "MinTemp           1485\n",
       "MaxTemp           1261\n",
       "Rainfall          3261\n",
       "Evaporation      62790\n",
       "Sunshine         69835\n",
       "WindGustSpeed    10263\n",
       "WindSpeed9am      1767\n",
       "WindSpeed3pm      3062\n",
       "Humidity9am       2654\n",
       "Humidity3pm       4507\n",
       "Pressure9am      15065\n",
       "Pressure3pm      15028\n",
       "Cloud9am         55888\n",
       "Cloud3pm         59358\n",
       "Temp9am           1767\n",
       "Temp3pm           3609\n",
       "year                 0\n",
       "month                0\n",
       "day                  0\n",
       "dtype: int64"
      ]
     },
     "execution_count": 24,
     "metadata": {},
     "output_type": "execute_result"
    }
   ],
   "source": [
    "numerical_features = [column_name for column_name in rain.columns if rain[column_name].dtype != 'O']\n",
    "rain[numerical_features].isnull().sum()"
   ]
  },
  {
   "cell_type": "code",
   "execution_count": 25,
   "id": "50c56568",
   "metadata": {},
   "outputs": [],
   "source": [
    "#taking the features with outliers and normalizing the features with upperlimit and lower limit\n",
    "features_with_outliers = ['MinTemp', 'MaxTemp', 'Rainfall', 'Evaporation', 'WindGustSpeed','WindSpeed9am', 'WindSpeed3pm', 'Humidity9am', 'Pressure9am', 'Pressure3pm', 'Temp9am', 'Temp3pm']\n",
    "for feature in features_with_outliers:\n",
    "    q1 = rain[feature].quantile(0.25)\n",
    "    q3 = rain[feature].quantile(0.75)\n",
    "    IQR = q3-q1\n",
    "    lower_limit = q1 - (IQR*1.5)\n",
    "    upper_limit = q3 + (IQR*1.5)\n",
    "    rain.loc[rain[feature]<lower_limit,feature] = lower_limit\n",
    "    rain.loc[rain[feature]>upper_limit,feature] = upper_limit"
   ]
  },
  {
   "cell_type": "code",
   "execution_count": 26,
   "id": "e5c11f04",
   "metadata": {},
   "outputs": [],
   "source": [
    "# checking hte same null value NA for numerical features and replaving the with unique values\n",
    "numerical_features_with_null = [feature for feature in numerical_features if rain[feature].isnull().sum()]\n",
    "for feature in numerical_features_with_null:\n",
    "    mean_value = rain[feature].mean()\n",
    "    rain[feature].fillna(mean_value,inplace=True)"
   ]
  },
  {
   "cell_type": "code",
   "execution_count": 27,
   "id": "e843a15f",
   "metadata": {},
   "outputs": [],
   "source": [
    "#this function replaces the categorial variable YES and NO to unique numerical variables.\n",
    "def encode_data(feature_name):\n",
    "\n",
    "    ''' \n",
    "\n",
    "    This function takes feature name as a parameter and returns mapping dictionary to replace(or map) categorical data with numerical data.\n",
    "\n",
    "    '''\n",
    "\n",
    "    mapping_dict = {}\n",
    "\n",
    "    unique_values = list(rain[feature_name].unique())\n",
    "\n",
    "    for idx in range(len(unique_values)):\n",
    "\n",
    "        mapping_dict[unique_values[idx]] = idx\n",
    "\n",
    "    return mapping_dict"
   ]
  },
  {
   "cell_type": "code",
   "execution_count": 28,
   "id": "c518cace",
   "metadata": {},
   "outputs": [],
   "source": [
    "rain['RainToday'].replace({'No':0, 'Yes': 1}, inplace = True)\n",
    "\n",
    "rain['RainTomorrow'].replace({'No':0, 'Yes': 1}, inplace = True)\n",
    "\n",
    "rain['WindGustDir'].replace(encode_data('WindGustDir'),inplace = True)\n",
    "\n",
    "rain['WindDir9am'].replace(encode_data('WindDir9am'),inplace = True)\n",
    "\n",
    "rain['WindDir3pm'].replace(encode_data('WindDir3pm'),inplace = True)\n",
    "\n",
    "rain['Location'].replace(encode_data('Location'), inplace = True)"
   ]
  },
  {
   "cell_type": "code",
   "execution_count": 29,
   "id": "35567bdf",
   "metadata": {},
   "outputs": [],
   "source": [
    "#Seperating the Dependent variable from the independent variables\n",
    "X = rain.drop(['RainTomorrow'],axis=1)\n",
    "y = rain['RainTomorrow']"
   ]
  },
  {
   "cell_type": "code",
   "execution_count": 30,
   "id": "6651f8d8",
   "metadata": {},
   "outputs": [
    {
     "name": "stdout",
     "output_type": "stream",
     "text": [
      "Length of Training Data: 116368\n",
      "Length of Testing Data: 29092\n"
     ]
    }
   ],
   "source": [
    "#Spliting the data in random form for training and testing using sklearn\n",
    "from sklearn.model_selection import train_test_split\n",
    "X_train, X_test, y_train, y_test = train_test_split(X,y, test_size = 0.2, random_state = 0)\n",
    "\n",
    "print(\"Length of Training Data: {}\".format(len(X_train)))\n",
    "print(\"Length of Testing Data: {}\".format(len(X_test)))"
   ]
  },
  {
   "cell_type": "code",
   "execution_count": 31,
   "id": "a342585d",
   "metadata": {},
   "outputs": [],
   "source": [
    "# code beginning of logistic regression\n",
    "from sklearn.linear_model import LogisticRegression\n",
    "# using LogisticRegression method from sklearn module with liblinear as solver and no random state\n",
    "classifier_logreg = LogisticRegression(solver='liblinear', random_state=0)\n",
    "#training the algorithm with the training data created\n",
    "classifier_logreg.fit(X_train, y_train)\n",
    "\n",
    "y_pred = classifier_logreg.predict(X_test)"
   ]
  },
  {
   "cell_type": "code",
   "execution_count": 32,
   "id": "fc8a7713",
   "metadata": {},
   "outputs": [
    {
     "name": "stdout",
     "output_type": "stream",
     "text": [
      "Accuracy Score Logistic Regression : 0.8442870892341537\n"
     ]
    }
   ],
   "source": [
    "#generating accuracy_score\n",
    "from sklearn.metrics import accuracy_score\n",
    "LR_ac = accuracy_score(y_test,y_pred)\n",
    "print(\"Accuracy Score Logistic Regression : {}\".format(LR_ac))"
   ]
  },
  {
   "cell_type": "code",
   "execution_count": 33,
   "id": "9d166fca",
   "metadata": {},
   "outputs": [
    {
     "name": "stdout",
     "output_type": "stream",
     "text": [
      "Accuracy Score of KNN : 0.8260690224116596\n"
     ]
    }
   ],
   "source": [
    "# Code begning of KNN\n",
    "from sklearn.neighbors import NearestNeighbors\n",
    "#number of neighbours are being two since this is a teo class problem\n",
    "neigh = sklearn.neighbors.KNeighborsClassifier(n_neighbors=2)\n",
    "neigh.fit(X_train,y_train)\n",
    "KN_ac = neigh.score(X_test, y_test, sample_weight=None)\n",
    "print(\"Accuracy Score of KNN : {}\".format(KN_ac))"
   ]
  },
  {
   "cell_type": "code",
   "execution_count": 34,
   "id": "3dc554cf",
   "metadata": {},
   "outputs": [
    {
     "name": "stdout",
     "output_type": "stream",
     "text": [
      "Accuracy Score Decision Tree : 0.7903547366973739\n"
     ]
    }
   ],
   "source": [
    "# code beginning of Decission Tree\n",
    "from sklearn.model_selection import cross_val_score\n",
    "from sklearn.tree import DecisionTreeClassifier\n",
    "clf = DecisionTreeClassifier(random_state=0)\n",
    "clf.fit(X_train,y_train)\n",
    "ac_DT = clf.score(X_test,y_test)\n",
    "print(\"Accuracy Score Decision Tree : {}\".format(ac_DT))"
   ]
  },
  {
   "cell_type": "code",
   "execution_count": null,
   "id": "58e99d53",
   "metadata": {},
   "outputs": [],
   "source": [
    "#Code begining of SVM\n",
    "import numpy as np\n",
    "from sklearn.pipeline import make_pipeline\n",
    "from sklearn.preprocessing import StandardScaler\n",
    "from sklearn.svm import SVC\n",
    "clf = make_pipeline(StandardScaler(), SVC(gamma='auto'))\n",
    "clf.fit(X_train, y_train)\n",
    "ac_SVM = clf.score(X_test,y_test, sample_weight=None)\n",
    "print(\"Accuracy Score SVM : {}\".format(ac_SVM))"
   ]
  }
 ],
 "metadata": {
  "kernelspec": {
   "display_name": "Python 3",
   "language": "python",
   "name": "python3"
  },
  "language_info": {
   "codemirror_mode": {
    "name": "ipython",
    "version": 3
   },
   "file_extension": ".py",
   "mimetype": "text/x-python",
   "name": "python",
   "nbconvert_exporter": "python",
   "pygments_lexer": "ipython3",
   "version": "3.8.8"
  }
 },
 "nbformat": 4,
 "nbformat_minor": 5
}
